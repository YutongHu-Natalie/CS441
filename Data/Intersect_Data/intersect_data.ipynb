{
 "cells": [
  {
   "cell_type": "code",
   "execution_count": 49,
   "metadata": {},
   "outputs": [],
   "source": [
    "import pandas as pd"
   ]
  },
  {
   "cell_type": "code",
   "execution_count": 50,
   "metadata": {},
   "outputs": [],
   "source": [
    "df_1= pd.read_csv(\"../Adolescent_birth_rate.csv\")\n",
    "df_2= pd.read_csv(\"../Subjected_violence.csv\")"
   ]
  },
  {
   "cell_type": "code",
   "execution_count": 51,
   "metadata": {},
   "outputs": [],
   "source": [
    "df_1_scope= set(df_1[\"Geographic Area Name\"])\n",
    "df_2_scope= set(df_2[\"Geographic Area Name\"])\n",
    "common_area= df_1_scope.intersection(df_2_scope)"
   ]
  },
  {
   "cell_type": "code",
   "execution_count": 52,
   "metadata": {},
   "outputs": [],
   "source": [
    "df_1= df_1.loc[df_1[\"Geographic Area Name\"].isin(common_area)]\n",
    "df_1.to_csv(\"Adolescent_birth_rate_intersect.csv\")\n"
   ]
  },
  {
   "cell_type": "code",
   "execution_count": 53,
   "metadata": {},
   "outputs": [],
   "source": [
    "def order_by_SDG(df1, col_list):\n",
    "    result= df1.groupby([\"SDG Regeion\"])[col_list].mean()\n",
    "    return result"
   ]
  },
  {
   "cell_type": "code",
   "execution_count": 54,
   "metadata": {},
   "outputs": [
    {
     "name": "stdout",
     "output_type": "stream",
     "text": [
      "                                         Value(per 1,000 population)\n",
      "SDG Regeion                                                         \n",
      "Australia and New Zealand                                   8.940000\n",
      "Europe and Northern America                                10.098718\n",
      "Eastern and South-Eastern Asia                             26.737857\n",
      "Northern Africa and Western Asia                           28.482500\n",
      "Central and Southern Asia                                  34.595000\n",
      "Latin America and the Caribbean                            51.887692\n",
      "Oceania, exc. Australia and New Zealand                    53.873846\n",
      "Sub-Saharan Africa                                        104.703590\n"
     ]
    }
   ],
   "source": [
    "col_a= [\"Value(per 1,000 population)\"]\n",
    "df_1= order_by_SDG(df_1, col_a)\n",
    "df_1= df_1.sort_values(\"Value(per 1,000 population)\")\n",
    "print(df_1)"
   ]
  }
 ],
 "metadata": {
  "kernelspec": {
   "display_name": "base",
   "language": "python",
   "name": "python3"
  },
  "language_info": {
   "codemirror_mode": {
    "name": "ipython",
    "version": 3
   },
   "file_extension": ".py",
   "mimetype": "text/x-python",
   "name": "python",
   "nbconvert_exporter": "python",
   "pygments_lexer": "ipython3",
   "version": "3.11.5"
  }
 },
 "nbformat": 4,
 "nbformat_minor": 2
}
