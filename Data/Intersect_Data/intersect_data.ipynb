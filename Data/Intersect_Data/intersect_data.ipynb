{
 "cells": [
  {
   "cell_type": "code",
   "execution_count": 1,
   "metadata": {},
   "outputs": [],
   "source": [
    "import pandas as pd"
   ]
  },
  {
   "cell_type": "code",
   "execution_count": 2,
   "metadata": {},
   "outputs": [],
   "source": [
    "df_1= pd.read_csv(\"../Adolescent_birth_rate.csv\")\n",
    "df_2= pd.read_csv(\"../Subjected_violence.csv\")\n",
    "df_3= pd.read_csv(\"../ylr_intersection_data.csv\")"
   ]
  },
  {
   "cell_type": "code",
   "execution_count": 3,
   "metadata": {},
   "outputs": [],
   "source": [
    "common_area= set(df_3[\"Geographic Area Name\"])"
   ]
  },
  {
   "cell_type": "code",
   "execution_count": 4,
   "metadata": {},
   "outputs": [],
   "source": [
    "df_1= df_1.loc[df_1[\"Geographic Area Name\"].isin(common_area)]\n",
    "df_1.to_csv(\"Adolescent_birth_rate_intersect.csv\")\n",
    "df_2= df_2.loc[df_2[\"Geographic Area Name\"].isin(common_area)]\n",
    "df_2.to_csv(\"Subjected_violence_intersect.csv\")"
   ]
  },
  {
   "cell_type": "code",
   "execution_count": 5,
   "metadata": {},
   "outputs": [],
   "source": [
    "def order_by_SDG(df1, col_list):\n",
    "    result= df1.groupby([\"SDG Regeion\"])[col_list].mean()\n",
    "    return result"
   ]
  },
  {
   "cell_type": "code",
   "execution_count": 6,
   "metadata": {},
   "outputs": [
    {
     "name": "stdout",
     "output_type": "stream",
     "text": [
      "                                         Value(per 1,000 population)\n",
      "SDG Regeion                                                         \n",
      "Europe and Northern America                                 15.58500\n",
      "Northern Africa and Western Asia                            32.70000\n",
      "Central and Southern Asia                                   34.59500\n",
      "Eastern and South-Eastern Asia                              36.74100\n",
      "Latin America and the Caribbean                             56.62000\n",
      "Oceania, exc. Australia and New Zealand                     61.29400\n",
      "Sub-Saharan Africa                                         104.70359\n"
     ]
    }
   ],
   "source": [
    "col_a= [\"Value(per 1,000 population)\"]\n",
    "df_1= order_by_SDG(df_1, col_a)\n",
    "df_1= df_1.sort_values(\"Value(per 1,000 population)\")\n",
    "print(df_1)"
   ]
  },
  {
   "cell_type": "code",
   "execution_count": 7,
   "metadata": {},
   "outputs": [
    {
     "name": "stdout",
     "output_type": "stream",
     "text": [
      "                                          Value(%)  Value Lower Bound(%)  \\\n",
      "SDG Regeion                                                                \n",
      "Europe and Northern America               5.730000              3.220000   \n",
      "Latin America and the Caribbean           8.750000              5.211111   \n",
      "Eastern and South-Eastern Asia           10.870000              6.120000   \n",
      "Northern Africa and Western Asia         10.980000              6.220000   \n",
      "Central and Southern Asia                14.466667              8.408333   \n",
      "Sub-Saharan Africa                       18.925641             11.392308   \n",
      "Oceania, exc. Australia and New Zealand  22.800000             12.840000   \n",
      "\n",
      "                                         Value Upper Bound(%)  \n",
      "SDG Regeion                                                    \n",
      "Europe and Northern America                         10.020000  \n",
      "Latin America and the Caribbean                     14.350000  \n",
      "Eastern and South-Eastern Asia                      19.180000  \n",
      "Northern Africa and Western Asia                    18.700000  \n",
      "Central and Southern Asia                           23.583333  \n",
      "Sub-Saharan Africa                                  29.725641  \n",
      "Oceania, exc. Australia and New Zealand             37.360000  \n"
     ]
    }
   ],
   "source": [
    "col_s= [\"Value(%)\", \"Value Lower Bound(%)\", \"Value Upper Bound(%)\"]\n",
    "df_2= order_by_SDG(df_2, col_s)\n",
    "df_2= df_2.sort_values(col_s)\n",
    "print(df_2)"
   ]
  }
 ],
 "metadata": {
  "kernelspec": {
   "display_name": "Python 3",
   "language": "python",
   "name": "python3"
  },
  "language_info": {
   "codemirror_mode": {
    "name": "ipython",
    "version": 3
   },
   "file_extension": ".py",
   "mimetype": "text/x-python",
   "name": "python",
   "nbconvert_exporter": "python",
   "pygments_lexer": "ipython3",
   "version": "3.11.6"
  }
 },
 "nbformat": 4,
 "nbformat_minor": 2
}
