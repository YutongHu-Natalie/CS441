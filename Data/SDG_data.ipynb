{
 "cells": [
  {
   "cell_type": "code",
   "execution_count": 7,
   "metadata": {},
   "outputs": [],
   "source": [
    "import pandas as pd"
   ]
  },
  {
   "cell_type": "code",
   "execution_count": 8,
   "metadata": {},
   "outputs": [],
   "source": [
    "df_1= pd.read_csv(\"Adolescent_birth_rate.csv\")\n",
    "df_2= pd.read_csv(\"Subjected_violence.csv\")"
   ]
  },
  {
   "cell_type": "code",
   "execution_count": 9,
   "metadata": {},
   "outputs": [],
   "source": [
    "def order_by_SDG(df1, col_list):\n",
    "    result= df1.groupby([\"SDG Region\"])[col_list].mean()\n",
    "    return result\n"
   ]
  },
  {
   "cell_type": "code",
   "execution_count": 10,
   "metadata": {},
   "outputs": [],
   "source": [
    "col_a= [\"Value(per 1,000 population)\"]\n",
    "col_s= [\"Value(%)\", \"Value Lower Bound(%)\", \"Value Upper Bound(%)\"]"
   ]
  },
  {
   "cell_type": "code",
   "execution_count": 15,
   "metadata": {},
   "outputs": [
    {
     "name": "stdout",
     "output_type": "stream",
     "text": [
      "                                         Value(per 1,000 population)\n",
      "SDG Regeion                                                         \n",
      "Australia and New Zealand                                   8.940000\n",
      "Europe and Northern America                                 9.868654\n",
      "Eastern and South-Eastern Asia                             21.761667\n",
      "Northern Africa and Western Asia                           25.710000\n",
      "Central and Southern Asia                                  34.062857\n",
      "Latin America and the Caribbean                            41.127391\n",
      "Oceania, exc. Australia and New Zealand                    43.561500\n",
      "Sub-Saharan Africa                                         97.062000\n"
     ]
    }
   ],
   "source": [
    "df_1= order_by_SDG(df_1, col_a)\n",
    "df_1= df_1.sort_values(\"Value(per 1,000 population)\")\n",
    "print(df_1)"
   ]
  },
  {
   "cell_type": "code",
   "execution_count": 16,
   "metadata": {},
   "outputs": [
    {
     "name": "stdout",
     "output_type": "stream",
     "text": [
      "                                          Value(%)  Value Lower Bound(%)  \\\n",
      "SDG Regeion                                                                \n",
      "Australia and New Zealand                 3.550000              1.700000   \n",
      "Europe and Northern America               4.756410              2.587179   \n",
      "Latin America and the Caribbean           8.115385              4.669231   \n",
      "Eastern and South-Eastern Asia            8.964286              4.957143   \n",
      "Northern Africa and Western Asia          9.875000              5.558333   \n",
      "Central and Southern Asia                14.466667              8.408333   \n",
      "Sub-Saharan Africa                       18.925641             11.392308   \n",
      "Oceania, exc. Australia and New Zealand  21.453846             11.692308   \n",
      "\n",
      "                                         Value Upper Bound(%)  \n",
      "SDG Regeion                                                    \n",
      "Australia and New Zealand                            7.750000  \n",
      "Europe and Northern America                          8.684615  \n",
      "Latin America and the Caribbean                     13.826923  \n",
      "Eastern and South-Eastern Asia                      16.200000  \n",
      "Northern Africa and Western Asia                    16.983333  \n",
      "Central and Southern Asia                           23.583333  \n",
      "Sub-Saharan Africa                                  29.725641  \n",
      "Oceania, exc. Australia and New Zealand             36.207692  \n"
     ]
    }
   ],
   "source": [
    "df_2= order_by_SDG(df_2, col_s)\n",
    "df_2= df_2.sort_values(\"Value(%)\")\n",
    "print(df_2)"
   ]
  }
 ],
 "metadata": {
  "kernelspec": {
   "display_name": "base",
   "language": "python",
   "name": "python3"
  },
  "language_info": {
   "codemirror_mode": {
    "name": "ipython",
    "version": 3
   },
   "file_extension": ".py",
   "mimetype": "text/x-python",
   "name": "python",
   "nbconvert_exporter": "python",
   "pygments_lexer": "ipython3",
   "version": "3.11.5"
  }
 },
 "nbformat": 4,
 "nbformat_minor": 2
}
